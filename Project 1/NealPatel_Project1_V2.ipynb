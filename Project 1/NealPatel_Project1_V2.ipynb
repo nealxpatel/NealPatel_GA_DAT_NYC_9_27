{
 "cells": [
  {
   "cell_type": "markdown",
   "metadata": {},
   "source": [
    "### Class 7- Starter code\n"
   ]
  },
  {
   "cell_type": "code",
   "execution_count": 2,
   "metadata": {
    "collapsed": false
   },
   "outputs": [
    {
     "name": "stdout",
     "output_type": "stream",
     "text": [
      "Populating the interactive namespace from numpy and matplotlib\n"
     ]
    }
   ],
   "source": [
    "import numpy as np\n",
    "import pandas as pd\n",
    "from sklearn import linear_model, metrics\n",
    "%pylab inline"
   ]
  },
  {
   "cell_type": "markdown",
   "metadata": {},
   "source": [
    "###Create sample data and fit a model"
   ]
  },
  {
   "cell_type": "code",
   "execution_count": 58,
   "metadata": {
    "collapsed": false
   },
   "outputs": [],
   "source": [
    "df = pd.DataFrame({'x': range(1000), 'y': range(1000)})\n",
    "# NOTE: Whenever you make changes to dataframes and want to keep the original\n",
    "# make sure you do a deep copy\n",
    "biased_df  = df.copy(deep=True) \n",
    "biased_df.loc[:20, 'x'] = 1 # create a bias with both columns\n",
    "biased_df.loc[:20, 'y'] = 1\n",
    "\n",
    "def append_jitter(series):\n",
    "    # adds uniform random variable to the input series\n",
    "    jitter = np.random.random_sample(size=1000)\n",
    "    return series + jitter\n",
    "\n",
    "df['x'] = append_jitter(df.x)\n",
    "df['y'] = append_jitter(df.y)\n",
    "\n",
    "biased_df['x'] = append_jitter(biased_df.x)\n",
    "biased_df['y'] = append_jitter(biased_df.y)\n"
   ]
  },
  {
   "cell_type": "code",
   "execution_count": 59,
   "metadata": {
    "collapsed": false
   },
   "outputs": [
    {
     "name": "stdout",
     "output_type": "stream",
     "text": [
      "0.168750573078\n"
     ]
    }
   ],
   "source": [
    "## fit\n",
    "lm = linear_model.LinearRegression().fit(df[['x']], df['y'])\n",
    "print metrics.mean_squared_error(df['y'], lm.predict(df[['x']]))\n"
   ]
  },
  {
   "cell_type": "code",
   "execution_count": 60,
   "metadata": {
    "collapsed": false
   },
   "outputs": [
    {
     "name": "stdout",
     "output_type": "stream",
     "text": [
      "0.166725709491\n"
     ]
    }
   ],
   "source": [
    "## biased fit\n",
    "lm = linear_model.LinearRegression().fit(biased_df[['x']], biased_df['y'])\n",
    "print metrics.mean_squared_error(biased_df['y'], lm.predict(biased_df[['x']]))"
   ]
  },
  {
   "cell_type": "code",
   "execution_count": 61,
   "metadata": {
    "collapsed": false
   },
   "outputs": [
    {
     "data": {
      "text/plain": [
       "<matplotlib.axes._subplots.AxesSubplot at 0x11ab63810>"
      ]
     },
     "execution_count": 61,
     "metadata": {},
     "output_type": "execute_result"
    },
    {
     "data": {
      "image/png": "[encoded data removed]",
      "text/plain": [
       "<matplotlib.figure.Figure at 0x11b2c1690>"
      ]
     },
     "metadata": {},
     "output_type": "display_data"
    },
    {
     "data": {
      "image/png": "[encoded data removed]",
      "text/plain": [
       "<matplotlib.figure.Figure at 0x11a9206d0>"
      ]
     },
     "metadata": {},
     "output_type": "display_data"
    }
   ],
   "source": [
    "pd.DataFrame(lm.predict(biased_df[['x']])-lm.predict(biased_df[['y']])).plot(kind=\"density\")\n",
    "pd.DataFrame(lm.predict(df[['x']])-lm.predict(df[['y']])).plot(kind=\"density\")"
   ]
  },
  {
   "cell_type": "markdown",
   "metadata": {},
   "source": [
    "## Question - try to look at the distribution of the residuals for both biased_df and df"
   ]
  },
  {
   "cell_type": "markdown",
   "metadata": {},
   "source": [
    "## Cross validation\n",
    "#### Intro to cross validation with bike share data from last time. We will be modeling casual ridership. "
   ]
  },
  {
   "cell_type": "code",
   "execution_count": 6,
   "metadata": {
    "collapsed": true
   },
   "outputs": [],
   "source": [
    "from sklearn import cross_validation\n",
    "wd = '../../assets/dataset/'\n",
    "bikeshare = pd.read_csv(wd + 'bikeshare.csv')"
   ]
  },
  {
   "cell_type": "markdown",
   "metadata": {},
   "source": [
    "####Create dummy variables and set outcome (dependent) variable"
   ]
  },
  {
   "cell_type": "code",
   "execution_count": 62,
   "metadata": {
    "collapsed": true
   },
   "outputs": [],
   "source": [
    "weather = pd.get_dummies(bikeshare.weathersit, prefix='weather')\n",
    "modeldata = bikeshare[['temp', 'hum']].join(weather[['weather_1', 'weather_2', 'weather_3']])\n",
    "y = pd.DataFrame(bikeshare.casual)"
   ]
  },
  {
   "cell_type": "markdown",
   "metadata": {},
   "source": [
    "#### Create a cross valiation with 5 folds"
   ]
  },
  {
   "cell_type": "code",
   "execution_count": 63,
   "metadata": {
    "collapsed": false
   },
   "outputs": [
    {
     "data": {
      "text/plain": [
       "(17379, 5)"
      ]
     },
     "execution_count": 63,
     "metadata": {},
     "output_type": "execute_result"
    }
   ],
   "source": [
    "kf = cross_validation.KFold(len(modeldata), n_folds=5, shuffle=True)\n",
    "modeldata.shape"
   ]
  },
  {
   "cell_type": "code",
   "execution_count": 23,
   "metadata": {
    "collapsed": false,
    "scrolled": true
   },
   "outputs": [
    {
     "name": "stdout",
     "output_type": "stream",
     "text": [
      "(array([    0,     1,     3, ..., 17376, 17377, 17378]), array([    2,    10,    20, ..., 17364, 17367, 17372]))\n",
      "(13903,) (3476,)\n",
      "(array([    0,     1,     2, ..., 17376, 17377, 17378]), array([    6,     7,    13, ..., 17366, 17368, 17375]))\n",
      "(13903,) (3476,)\n",
      "(array([    2,     3,     4, ..., 17375, 17376, 17377]), array([    0,     1,    25, ..., 17369, 17373, 17378]))\n",
      "(13903,) (3476,)\n",
      "(array([    0,     1,     2, ..., 17375, 17376, 17378]), array([    4,     8,    12, ..., 17359, 17370, 17377]))\n",
      "(13903,) (3476,)\n",
      "(array([    0,     1,     2, ..., 17375, 17377, 17378]), array([    3,     5,     9, ..., 17371, 17374, 17376]))\n",
      "(13904,) (3475,)\n"
     ]
    }
   ],
   "source": [
    "# kf basically contains 5 different test train sets of 80% and 20% split\n",
    "for a in kf:\n",
    "    print a\n",
    "    print a[0].shape , a[1].shape"
   ]
  },
  {
   "cell_type": "code",
   "execution_count": 64,
   "metadata": {
    "collapsed": false
   },
   "outputs": [
    {
     "name": "stdout",
     "output_type": "stream",
     "text": [
      "~~~~ CROSS VALIDATION each fold ~~~~\n",
      "Model 1\n",
      "MSE: 1596.71181554\n",
      "R2: 0.315687927282\n",
      "Model 2\n",
      "MSE: 1779.41948552\n",
      "R2: 0.297364280691\n",
      "Model 3\n",
      "MSE: 1609.52812215\n",
      "R2: 0.315647354912\n",
      "Model 4\n",
      "MSE: 1768.56961786\n",
      "R2: 0.310517120277\n",
      "Model 5\n",
      "MSE: 1612.52205656\n",
      "R2: 0.318213490799\n",
      "~~~~ SUMMARY OF CROSS VALIDATION ~~~~\n",
      "Mean of MSE for all folds: 1673.35021953\n",
      "Mean of R2 for all folds: 0.311486034792\n"
     ]
    }
   ],
   "source": [
    "mse_values = []\n",
    "scores = []\n",
    "n= 0\n",
    "print \"~~~~ CROSS VALIDATION each fold ~~~~\"\n",
    "for train_index, test_index in kf:\n",
    "    lm = linear_model.LinearRegression().fit(modeldata.iloc[train_index], y.iloc[train_index])\n",
    "    mse_values.append(metrics.mean_squared_error(y.iloc[test_index], lm.predict(modeldata.iloc[test_index])))\n",
    "    scores.append(lm.score(modeldata.iloc[test_index], y.iloc[test_index]))\n",
    "    n+=1\n",
    "    print 'Model', n\n",
    "    print 'MSE:', mse_values[n-1]\n",
    "    print 'R2:', scores[n-1]\n",
    "\n",
    "\n",
    "print \"~~~~ SUMMARY OF CROSS VALIDATION ~~~~\"\n",
    "print 'Mean of MSE for all folds:', np.mean(mse_values)\n",
    "print 'Mean of R2 for all folds:', np.mean(scores)"
   ]
  },
  {
   "cell_type": "code",
   "execution_count": 40,
   "metadata": {
    "collapsed": false
   },
   "outputs": [
    {
     "name": "stdout",
     "output_type": "stream",
     "text": [
      "~~~~ Single Model ~~~~\n",
      "MSE of single model: 1672.58110765\n",
      "R2:  0.311934605989\n"
     ]
    }
   ],
   "source": [
    "lm = linear_model.LinearRegression().fit(modeldata, y)\n",
    "print \"~~~~ Single Model ~~~~\"\n",
    "print 'MSE of single model:', metrics.mean_squared_error(y, lm.predict(modeldata))\n",
    "print 'R2: ', lm.score(modeldata, y)"
   ]
  },
  {
   "cell_type": "markdown",
   "metadata": {},
   "source": [
    "### Check\n",
    "While the cross validated approach here generated more overall error, which of the two approaches would predict new data more accurately: the single model or the cross validated, averaged one? Why?\n"
   ]
  },
  {
   "cell_type": "markdown",
   "metadata": {},
   "source": [
    "Answer: "
   ]
  },
  {
   "cell_type": "markdown",
   "metadata": {},
   "source": [
    "### There are ways to improve our model with regularization. \n",
    "Let's check out the effects on MSE and R2"
   ]
  },
  {
   "cell_type": "code",
   "execution_count": 41,
   "metadata": {
    "collapsed": false
   },
   "outputs": [
    {
     "data": {
      "text/html": [
       "<div>\n",
       "<table border=\"1\" class=\"dataframe\">\n",
       "  <thead>\n",
       "    <tr style=\"text-align: right;\">\n",
       "      <th></th>\n",
       "      <th>temp</th>\n",
       "      <th>hum</th>\n",
       "      <th>weather_1</th>\n",
       "      <th>weather_2</th>\n",
       "      <th>weather_3</th>\n",
       "    </tr>\n",
       "  </thead>\n",
       "  <tbody>\n",
       "    <tr>\n",
       "      <th>temp</th>\n",
       "      <td>1.000000</td>\n",
       "      <td>-0.069881</td>\n",
       "      <td>0.101044</td>\n",
       "      <td>-0.069657</td>\n",
       "      <td>-0.062406</td>\n",
       "    </tr>\n",
       "    <tr>\n",
       "      <th>hum</th>\n",
       "      <td>-0.069881</td>\n",
       "      <td>1.000000</td>\n",
       "      <td>-0.383425</td>\n",
       "      <td>0.220758</td>\n",
       "      <td>0.309737</td>\n",
       "    </tr>\n",
       "    <tr>\n",
       "      <th>weather_1</th>\n",
       "      <td>0.101044</td>\n",
       "      <td>-0.383425</td>\n",
       "      <td>1.000000</td>\n",
       "      <td>-0.822961</td>\n",
       "      <td>-0.412414</td>\n",
       "    </tr>\n",
       "    <tr>\n",
       "      <th>weather_2</th>\n",
       "      <td>-0.069657</td>\n",
       "      <td>0.220758</td>\n",
       "      <td>-0.822961</td>\n",
       "      <td>1.000000</td>\n",
       "      <td>-0.177417</td>\n",
       "    </tr>\n",
       "    <tr>\n",
       "      <th>weather_3</th>\n",
       "      <td>-0.062406</td>\n",
       "      <td>0.309737</td>\n",
       "      <td>-0.412414</td>\n",
       "      <td>-0.177417</td>\n",
       "      <td>1.000000</td>\n",
       "    </tr>\n",
       "  </tbody>\n",
       "</table>\n",
       "</div>"
      ],
      "text/plain": [
       "               temp       hum  weather_1  weather_2  weather_3\n",
       "temp       1.000000 -0.069881   0.101044  -0.069657  -0.062406\n",
       "hum       -0.069881  1.000000  -0.383425   0.220758   0.309737\n",
       "weather_1  0.101044 -0.383425   1.000000  -0.822961  -0.412414\n",
       "weather_2 -0.069657  0.220758  -0.822961   1.000000  -0.177417\n",
       "weather_3 -0.062406  0.309737  -0.412414  -0.177417   1.000000"
      ]
     },
     "execution_count": 41,
     "metadata": {},
     "output_type": "execute_result"
    }
   ],
   "source": [
    "modeldata.corr()"
   ]
  },
  {
   "cell_type": "code",
   "execution_count": 42,
   "metadata": {
    "collapsed": false
   },
   "outputs": [
    {
     "name": "stdout",
     "output_type": "stream",
     "text": [
      "~~~ OLS ~~~\n",
      "OLS MSE:  1672.58110765\n",
      "OLS R2: 0.311934605989\n",
      "[[ 112.68901765  -84.01121684  -24.68489063  -21.00314494  -21.71893628]]\n",
      "~~~ Lasso ~~~\n",
      "Lasso MSE:  1725.41581608\n",
      "Lasso R2: 0.290199495922\n",
      "[ 86.81079432 -55.76414394   0.          -0.          -0.        ]\n",
      "~~~ Ridge ~~~\n",
      "Ridge MSE:  1672.60490113\n",
      "Ridge R2: 0.311924817843\n",
      "[[ 112.50129738  -83.84805622  -13.38214934   -9.72671278  -10.46162477]]\n"
     ]
    }
   ],
   "source": [
    "lm = linear_model.LinearRegression().fit(modeldata, y)\n",
    "print \"~~~ OLS ~~~\"\n",
    "print 'OLS MSE: ', metrics.mean_squared_error(y, lm.predict(modeldata))\n",
    "print 'OLS R2:', lm.score(modeldata, y)\n",
    "print lm.coef_\n",
    "\n",
    "lm = linear_model.Lasso().fit(modeldata, y)\n",
    "print \"~~~ Lasso ~~~\"\n",
    "print 'Lasso MSE: ', metrics.mean_squared_error(y, lm.predict(modeldata))\n",
    "print 'Lasso R2:', lm.score(modeldata, y)\n",
    "print lm.coef_\n",
    "\n",
    "lm = linear_model.Ridge().fit(modeldata, y)\n",
    "print \"~~~ Ridge ~~~\"\n",
    "print 'Ridge MSE: ', metrics.mean_squared_error(y, lm.predict(modeldata))\n",
    "print 'Ridge R2:', lm.score(modeldata, y)\n",
    "print lm.coef_\n"
   ]
  },
  {
   "cell_type": "markdown",
   "metadata": {},
   "source": [
    "### Figuring out the alphas can be done by \"hand\""
   ]
  },
  {
   "cell_type": "code",
   "execution_count": 43,
   "metadata": {
    "collapsed": false
   },
   "outputs": [
    {
     "name": "stdout",
     "output_type": "stream",
     "text": [
      "Alpha: 1e-10\n",
      "[[ 112.68901765  -84.01121684  -24.68489063  -21.00314493  -21.71893628]]\n",
      "1672.58110765\n",
      "Alpha: 1e-09\n",
      "[[ 112.68901765  -84.01121684  -24.68489061  -21.00314491  -21.71893626]]\n",
      "1672.58110765\n",
      "Alpha: 1e-08\n",
      "[[ 112.68901765  -84.01121684  -24.6848904   -21.00314471  -21.71893606]]\n",
      "1672.58110765\n",
      "Alpha: 1e-07\n",
      "[[ 112.68901763  -84.01121682  -24.68488837  -21.00314268  -21.71893403]]\n",
      "1672.58110765\n",
      "Alpha: 1e-06\n",
      "[[ 112.68901745  -84.01121667  -24.68486804  -21.00312237  -21.71891373]]\n",
      "1672.58110765\n",
      "Alpha: 1e-05\n",
      "[[ 112.68901562  -84.01121509  -24.68466472  -21.00291929  -21.71871079]]\n",
      "1672.58110765\n",
      "Alpha: 0.0001\n",
      "[[ 112.68899732  -84.01119938  -24.68263174  -21.00088873  -21.71668161]]\n",
      "1672.58110765\n",
      "Alpha: 0.001\n",
      "[[ 112.68881437  -84.01104228  -24.66232204  -20.98060316  -21.69640993]]\n",
      "1672.58110774\n",
      "Alpha: 0.01\n",
      "[[ 112.68698753  -84.00947323  -24.46121539  -20.77973778  -21.49568404]]\n",
      "1672.58111645\n",
      "Alpha: 0.1\n",
      "[[ 112.66896732  -83.99396383  -22.63109556  -18.95202277  -19.66942371]]\n",
      "1672.58185208\n",
      "Alpha: 1.0\n",
      "[[ 112.50129738  -83.84805622  -13.38214934   -9.72671278  -10.46162477]]\n",
      "1672.60490113\n",
      "Alpha: 10.0\n",
      "[[ 110.96062533  -82.49604961   -3.94431741   -0.51765034   -1.45024412]]\n",
      "1672.83347262\n",
      "Alpha: 100.0\n",
      "[[ 97.69060562 -71.17602377  -0.31585194   1.18284675  -1.33281591]]\n",
      "1686.31830362\n",
      "Alpha: 1000.0\n",
      "[[ 44.59923075 -30.85843772   5.07876321   0.05369643  -5.107457  ]]\n",
      "1937.81576044\n",
      "Alpha: 10000.0\n",
      "[[ 7.03007064 -5.07733082  3.29039029 -1.2136063  -2.06842808]]\n",
      "2314.83675678\n",
      "Alpha: 100000.0\n",
      "[[ 0.75195708 -0.56490872  0.52067881 -0.25075496 -0.26895254]]\n",
      "2415.77806566\n",
      "Alpha: 1000000.0\n",
      "[[ 0.07576571 -0.05727511  0.05520142 -0.0273591  -0.02774349]]\n",
      "2429.28026459\n",
      "Alpha: 10000000.0\n",
      "[[ 0.00758239 -0.00573569  0.0055535  -0.00276043 -0.00278317]]\n",
      "2430.68891798\n",
      "Alpha: 100000000.0\n",
      "[[ 0.0007583  -0.00057365  0.00055569 -0.00027629 -0.00027841]]\n",
      "2430.83041212\n",
      "Alpha: 1000000000.0\n",
      "[[  7.58303020e-05  -5.73659720e-05   5.55719458e-05  -2.76314619e-05\n",
      "   -2.78414555e-05]]\n",
      "2430.84456787\n",
      "Alpha: 10000000000.0\n",
      "[[  7.58303603e-06  -5.73660542e-06   5.55722818e-06  -2.76317091e-06\n",
      "   -2.78415441e-06]]\n",
      "2430.84598351\n"
     ]
    }
   ],
   "source": [
    "alphas = np.logspace(-10, 10, 21)\n",
    "for a in alphas:\n",
    "    print 'Alpha:', a\n",
    "    lm = linear_model.Ridge(alpha=a)\n",
    "    lm.fit(modeldata, y)\n",
    "    print lm.coef_\n",
    "    print metrics.mean_squared_error(y, lm.predict(modeldata))"
   ]
  },
  {
   "cell_type": "markdown",
   "metadata": {},
   "source": [
    "### Or we can use grid search to make this faster"
   ]
  },
  {
   "cell_type": "code",
   "execution_count": 67,
   "metadata": {
    "collapsed": false
   },
   "outputs": [
    {
     "data": {
      "text/plain": [
       "GridSearchCV(cv=10, error_score='raise',\n",
       "       estimator=Lasso(alpha=1.0, copy_X=True, fit_intercept=True, max_iter=1000,\n",
       "   normalize=False, positive=False, precompute=False, random_state=None,\n",
       "   selection='cyclic', tol=0.0001, warm_start=False),\n",
       "       fit_params={}, iid=True, n_jobs=1,\n",
       "       param_grid={'normalize': [True, False], 'alpha': array([  1.00000e-10,   1.00000e-09,   1.00000e-08,   1.00000e-07,\n",
       "         1.00000e-06,   1.00000e-05,   1.00000e-04,   1.00000e-03,\n",
       "         1.00000e-02,   1.00000e-01,   1.00000e+00,   1.00000e+01,\n",
       "         1.00000e+02,   1.00000e+03,   1.00000e+04,   1.00000e+05,\n",
       "         1.00000e+06,   1.00000e+07,   1.00000e+08,   1.00000e+09,\n",
       "         1.00000e+10]), 'fit_intercept': [True, False]},\n",
       "       pre_dispatch='2*n_jobs', refit=True, scoring='mean_squared_error',\n",
       "       verbose=0)"
      ]
     },
     "execution_count": 67,
     "metadata": {},
     "output_type": "execute_result"
    }
   ],
   "source": [
    "from sklearn import grid_search\n",
    "\n",
    "alphas = np.logspace(-10, 10, 21)\n",
    "gs = grid_search.GridSearchCV(\n",
    "    estimator=linear_model.Lasso(),\n",
    "    param_grid={'alpha': alphas,'fit_intercept':[True,False],'normalize':[True,False]},\n",
    "    scoring='mean_squared_error',cv=10)\n",
    "\n",
    "gs.fit(modeldata, y)\n"
   ]
  },
  {
   "cell_type": "markdown",
   "metadata": {},
   "source": [
    "##### Best score "
   ]
  },
  {
   "cell_type": "code",
   "execution_count": 68,
   "metadata": {
    "collapsed": false
   },
   "outputs": [
    {
     "name": "stdout",
     "output_type": "stream",
     "text": [
      "-1742.92316008\n"
     ]
    }
   ],
   "source": [
    "print gs.best_score_ "
   ]
  },
  {
   "cell_type": "markdown",
   "metadata": {},
   "source": [
    "##### mean squared error here comes in negative, so let's make it positive."
   ]
  },
  {
   "cell_type": "code",
   "execution_count": 69,
   "metadata": {
    "collapsed": false
   },
   "outputs": [
    {
     "name": "stdout",
     "output_type": "stream",
     "text": [
      "1742.92316008\n"
     ]
    }
   ],
   "source": [
    "print -gs.best_score_ "
   ]
  },
  {
   "cell_type": "markdown",
   "metadata": {},
   "source": [
    "##### explains which grid_search setup worked best"
   ]
  },
  {
   "cell_type": "code",
   "execution_count": 70,
   "metadata": {
    "collapsed": false
   },
   "outputs": [
    {
     "data": {
      "text/plain": [
       "Index([u'temp', u'hum', u'weather_1', u'weather_2', u'weather_3'], dtype='object')"
      ]
     },
     "execution_count": 70,
     "metadata": {},
     "output_type": "execute_result"
    }
   ],
   "source": [
    "modeldata.columns"
   ]
  },
  {
   "cell_type": "code",
   "execution_count": 74,
   "metadata": {
    "collapsed": false
   },
   "outputs": [
    {
     "data": {
      "text/plain": [
       "Lasso(alpha=0.10000000000000001, copy_X=True, fit_intercept=True,\n",
       "   max_iter=1000, normalize=False, positive=False, precompute=False,\n",
       "   random_state=None, selection='cyclic', tol=0.0001, warm_start=False)"
      ]
     },
     "execution_count": 74,
     "metadata": {},
     "output_type": "execute_result"
    }
   ],
   "source": [
    "gs.best_estimator_"
   ]
  },
  {
   "cell_type": "code",
   "execution_count": 75,
   "metadata": {
    "collapsed": false
   },
   "outputs": [
    {
     "name": "stdout",
     "output_type": "stream",
     "text": [
      "[ 109.93593998  -80.45002088   -1.82328187    0.77974702   -0.        ]\n"
     ]
    }
   ],
   "source": [
    "print gs.best_estimator_.coef_"
   ]
  },
  {
   "cell_type": "markdown",
   "metadata": {},
   "source": [
    "##### shows all the grid pairings and their performances."
   ]
  },
  {
   "cell_type": "code",
   "execution_count": 50,
   "metadata": {
    "collapsed": false
   },
   "outputs": [
    {
     "name": "stdout",
     "output_type": "stream",
     "text": [
      "[mean: -1743.92970, std: 1051.57802, params: {'normalize': True, 'alpha': 1e-10, 'fit_intercept': True}, mean: -1743.92970, std: 1051.57802, params: {'normalize': False, 'alpha': 1e-10, 'fit_intercept': True}, mean: -1744.68267, std: 1051.62193, params: {'normalize': True, 'alpha': 1e-10, 'fit_intercept': False}, mean: -1744.68267, std: 1051.62193, params: {'normalize': False, 'alpha': 1e-10, 'fit_intercept': False}, mean: -1743.92970, std: 1051.57802, params: {'normalize': True, 'alpha': 1.0000000000000001e-09, 'fit_intercept': True}, mean: -1743.92970, std: 1051.57802, params: {'normalize': False, 'alpha': 1.0000000000000001e-09, 'fit_intercept': True}, mean: -1744.68267, std: 1051.62193, params: {'normalize': True, 'alpha': 1.0000000000000001e-09, 'fit_intercept': False}, mean: -1744.68267, std: 1051.62193, params: {'normalize': False, 'alpha': 1.0000000000000001e-09, 'fit_intercept': False}, mean: -1743.92970, std: 1051.57802, params: {'normalize': True, 'alpha': 1e-08, 'fit_intercept': True}, mean: -1743.92970, std: 1051.57802, params: {'normalize': False, 'alpha': 1e-08, 'fit_intercept': True}, mean: -1744.68267, std: 1051.62193, params: {'normalize': True, 'alpha': 1e-08, 'fit_intercept': False}, mean: -1744.68267, std: 1051.62193, params: {'normalize': False, 'alpha': 1e-08, 'fit_intercept': False}, mean: -1743.92970, std: 1051.57807, params: {'normalize': True, 'alpha': 9.9999999999999995e-08, 'fit_intercept': True}, mean: -1743.92970, std: 1051.57802, params: {'normalize': False, 'alpha': 9.9999999999999995e-08, 'fit_intercept': True}, mean: -1744.68267, std: 1051.62193, params: {'normalize': True, 'alpha': 9.9999999999999995e-08, 'fit_intercept': False}, mean: -1744.68267, std: 1051.62193, params: {'normalize': False, 'alpha': 9.9999999999999995e-08, 'fit_intercept': False}, mean: -1743.92962, std: 1051.57849, params: {'normalize': True, 'alpha': 9.9999999999999995e-07, 'fit_intercept': True}, mean: -1743.92970, std: 1051.57802, params: {'normalize': False, 'alpha': 9.9999999999999995e-07, 'fit_intercept': True}, mean: -1744.68267, std: 1051.62193, params: {'normalize': True, 'alpha': 9.9999999999999995e-07, 'fit_intercept': False}, mean: -1744.68267, std: 1051.62193, params: {'normalize': False, 'alpha': 9.9999999999999995e-07, 'fit_intercept': False}, mean: -1743.92918, std: 1051.58241, params: {'normalize': True, 'alpha': 1.0000000000000001e-05, 'fit_intercept': True}, mean: -1743.92970, std: 1051.57802, params: {'normalize': False, 'alpha': 1.0000000000000001e-05, 'fit_intercept': True}, mean: -1744.68267, std: 1051.62194, params: {'normalize': True, 'alpha': 1.0000000000000001e-05, 'fit_intercept': False}, mean: -1744.68267, std: 1051.62194, params: {'normalize': False, 'alpha': 1.0000000000000001e-05, 'fit_intercept': False}, mean: -1743.93341, std: 1051.61022, params: {'normalize': True, 'alpha': 0.0001, 'fit_intercept': True}, mean: -1743.92968, std: 1051.57808, params: {'normalize': False, 'alpha': 0.0001, 'fit_intercept': True}, mean: -1744.68264, std: 1051.62205, params: {'normalize': True, 'alpha': 0.0001, 'fit_intercept': False}, mean: -1744.68264, std: 1051.62205, params: {'normalize': False, 'alpha': 0.0001, 'fit_intercept': False}, mean: -1743.89743, std: 1051.91005, params: {'normalize': True, 'alpha': 0.001, 'fit_intercept': True}, mean: -1743.92951, std: 1051.57864, params: {'normalize': False, 'alpha': 0.001, 'fit_intercept': True}, mean: -1744.68234, std: 1051.62308, params: {'normalize': True, 'alpha': 0.001, 'fit_intercept': False}, mean: -1744.68234, std: 1051.62308, params: {'normalize': False, 'alpha': 0.001, 'fit_intercept': False}, mean: -1743.15883, std: 1055.14801, params: {'normalize': True, 'alpha': 0.01, 'fit_intercept': True}, mean: -1743.92784, std: 1051.58418, params: {'normalize': False, 'alpha': 0.01, 'fit_intercept': True}, mean: -1744.67940, std: 1051.63343, params: {'normalize': True, 'alpha': 0.01, 'fit_intercept': False}, mean: -1744.67940, std: 1051.63343, params: {'normalize': False, 'alpha': 0.01, 'fit_intercept': False}, mean: -1742.54355, std: 1085.09595, params: {'normalize': True, 'alpha': 0.10000000000000001, 'fit_intercept': True}, mean: -1743.91380, std: 1051.63647, params: {'normalize': False, 'alpha': 0.10000000000000001, 'fit_intercept': True}, mean: -1744.65006, std: 1051.73687, params: {'normalize': True, 'alpha': 0.10000000000000001, 'fit_intercept': False}, mean: -1744.65006, std: 1051.73687, params: {'normalize': False, 'alpha': 0.10000000000000001, 'fit_intercept': False}, mean: -1899.23013, std: 1237.53176, params: {'normalize': True, 'alpha': 1.0, 'fit_intercept': True}, mean: -1743.77710, std: 1052.14163, params: {'normalize': False, 'alpha': 1.0, 'fit_intercept': True}, mean: -1744.36184, std: 1052.76655, params: {'normalize': True, 'alpha': 1.0, 'fit_intercept': False}, mean: -1744.36184, std: 1052.76655, params: {'normalize': False, 'alpha': 1.0, 'fit_intercept': False}, mean: -2343.93783, std: 1388.42342, params: {'normalize': True, 'alpha': 10.0, 'fit_intercept': True}, mean: -1742.34760, std: 1057.35486, params: {'normalize': False, 'alpha': 10.0, 'fit_intercept': True}, mean: -1741.96025, std: 1062.62606, params: {'normalize': True, 'alpha': 10.0, 'fit_intercept': False}, mean: -1741.96025, std: 1062.62606, params: {'normalize': False, 'alpha': 10.0, 'fit_intercept': False}, mean: -2482.00834, std: 1420.36432, params: {'normalize': True, 'alpha': 100.0, 'fit_intercept': True}, mean: -1747.18651, std: 1104.02367, params: {'normalize': False, 'alpha': 100.0, 'fit_intercept': True}, mean: -1745.43956, std: 1135.17580, params: {'normalize': True, 'alpha': 100.0, 'fit_intercept': False}, mean: -1745.43956, std: 1135.17580, params: {'normalize': False, 'alpha': 100.0, 'fit_intercept': False}, mean: -2498.67135, std: 1423.96638, params: {'normalize': True, 'alpha': 1000.0, 'fit_intercept': True}, mean: -2011.73199, std: 1280.11363, params: {'normalize': False, 'alpha': 1000.0, 'fit_intercept': True}, mean: -2006.68737, std: 1374.41496, params: {'normalize': True, 'alpha': 1000.0, 'fit_intercept': False}, mean: -2006.68737, std: 1374.41496, params: {'normalize': False, 'alpha': 1000.0, 'fit_intercept': False}, mean: -2500.37228, std: 1424.33129, params: {'normalize': True, 'alpha': 10000.0, 'fit_intercept': True}, mean: -2390.41585, std: 1396.53340, params: {'normalize': False, 'alpha': 10000.0, 'fit_intercept': True}, mean: -2497.15613, std: 1803.65421, params: {'normalize': True, 'alpha': 10000.0, 'fit_intercept': False}, mean: -2497.15613, std: 1803.65421, params: {'normalize': False, 'alpha': 10000.0, 'fit_intercept': False}, mean: -2500.54272, std: 1424.36783, params: {'normalize': True, 'alpha': 100000.0, 'fit_intercept': True}, mean: -2486.56042, std: 1421.04475, params: {'normalize': False, 'alpha': 100000.0, 'fit_intercept': True}, mean: -3320.96052, std: 2391.52296, params: {'normalize': True, 'alpha': 100000.0, 'fit_intercept': False}, mean: -3320.96052, std: 2391.52296, params: {'normalize': False, 'alpha': 100000.0, 'fit_intercept': False}, mean: -2500.55977, std: 1424.37148, params: {'normalize': True, 'alpha': 1000000.0, 'fit_intercept': True}, mean: -2499.11274, std: 1424.03141, params: {'normalize': False, 'alpha': 1000000.0, 'fit_intercept': True}, mean: -3655.85511, std: 2559.18637, params: {'normalize': True, 'alpha': 1000000.0, 'fit_intercept': False}, mean: -3655.85511, std: 2559.18637, params: {'normalize': False, 'alpha': 1000000.0, 'fit_intercept': False}, mean: -2500.56148, std: 1424.37185, params: {'normalize': True, 'alpha': 10000000.0, 'fit_intercept': True}, mean: -2500.41625, std: 1424.33776, params: {'normalize': False, 'alpha': 10000000.0, 'fit_intercept': True}, mean: -3698.74135, std: 2579.10865, params: {'normalize': True, 'alpha': 10000000.0, 'fit_intercept': False}, mean: -3698.74135, std: 2579.10865, params: {'normalize': False, 'alpha': 10000000.0, 'fit_intercept': False}, mean: -2500.56165, std: 1424.37189, params: {'normalize': True, 'alpha': 100000000.0, 'fit_intercept': True}, mean: -2500.54712, std: 1424.36848, params: {'normalize': False, 'alpha': 100000000.0, 'fit_intercept': True}, mean: -3703.14775, std: 2581.13832, params: {'normalize': True, 'alpha': 100000000.0, 'fit_intercept': False}, mean: -3703.14775, std: 2581.13832, params: {'normalize': False, 'alpha': 100000000.0, 'fit_intercept': False}, mean: -2500.56167, std: 1424.37189, params: {'normalize': True, 'alpha': 1000000000.0, 'fit_intercept': True}, mean: -2500.56021, std: 1424.37155, params: {'normalize': False, 'alpha': 1000000000.0, 'fit_intercept': True}, mean: -3703.58959, std: 2581.34167, params: {'normalize': True, 'alpha': 1000000000.0, 'fit_intercept': False}, mean: -3703.58959, std: 2581.34167, params: {'normalize': False, 'alpha': 1000000000.0, 'fit_intercept': False}, mean: -2500.56167, std: 1424.37189, params: {'normalize': True, 'alpha': 10000000000.0, 'fit_intercept': True}, mean: -2500.56152, std: 1424.37186, params: {'normalize': False, 'alpha': 10000000000.0, 'fit_intercept': True}, mean: -3703.63379, std: 2581.36201, params: {'normalize': True, 'alpha': 10000000000.0, 'fit_intercept': False}, mean: -3703.63379, std: 2581.36201, params: {'normalize': False, 'alpha': 10000000000.0, 'fit_intercept': False}]\n"
     ]
    }
   ],
   "source": [
    "print gs.grid_scores_ "
   ]
  },
  {
   "cell_type": "markdown",
   "metadata": {},
   "source": [
    "#Independent Practice: Bike data revisited\n",
    "\n",
    "There are tons of ways to approach a regression problem. The regularization techniques appended to ordinary least squares optimizes the size of coefficients to best account for error. Gradient Descent also introduces learning rate (how aggressively do we solve the problem), epsilon (at what point do we say the error margin is acceptable), and iterations (when should we stop no matter what?)\n",
    "\n",
    "For this deliverable, our goals are to:\n",
    "\n",
    "- implement the gradient descent/ridge/regression/OLS approach to our bike-share modeling problem,\n",
    "- demonstrate the grid_search module!\n",
    "\n",
    "While exploring the Gradient Descent regressor object, you'll build a grid search using the stochastic gradient descent estimator for the bike-share data set. Continue with either the model you evaluated last class or the simpler one from today. In particular, be sure to implement the \"param_grid\" in the grid search to get answers for the following questions:\n",
    "\n",
    "- With a set of alpha values between 10^-10 and 10^-1, how does the mean squared error change?\n",
    "- Based on the data, we know when to properly use l1 vs l2 regularization. By using a grid search with l1_ratios between 0 and 1 (increasing every 0.05), does that statement hold true? If not, did gradient descent have enough iterations?\n",
    "- How do these results change when you alter the learning rate (eta0)?\n",
    "\n",
    "**Bonus**: Can you see the advantages and disadvantages of using gradient descent after finishing this exercise?"
   ]
  },
  {
   "cell_type": "markdown",
   "metadata": {},
   "source": [
    "### Starter Code"
   ]
  },
  {
   "cell_type": "code",
   "execution_count": 76,
   "metadata": {
    "collapsed": false
   },
   "outputs": [
    {
     "name": "stdout",
     "output_type": "stream",
     "text": [
      "BEST ESTIMATOR\n",
      "1690.56298346\n",
      "SGDRegressor(alpha=0.0001, average=False, epsilon=0.1, eta0=0.01,\n",
      "       fit_intercept=True, l1_ratio=0.15, learning_rate='invscaling',\n",
      "       loss='squared_loss', n_iter=5, penalty='l2', power_t=0.25,\n",
      "       random_state=None, shuffle=True, verbose=0, warm_start=False)\n",
      "ALL ESTIMATORS\n",
      "[mean: -1690.56298, std: 121.65804, params: {}]\n"
     ]
    },
    {
     "name": "stderr",
     "output_type": "stream",
     "text": [
      "//anaconda/lib/python2.7/site-packages/sklearn/utils/validation.py:515: DataConversionWarning: A column-vector y was passed when a 1d array was expected. Please change the shape of y to (n_samples, ), for example using ravel().\n",
      "  y = column_or_1d(y, warn=True)\n",
      "//anaconda/lib/python2.7/site-packages/sklearn/utils/validation.py:515: DataConversionWarning: A column-vector y was passed when a 1d array was expected. Please change the shape of y to (n_samples, ), for example using ravel().\n",
      "  y = column_or_1d(y, warn=True)\n",
      "//anaconda/lib/python2.7/site-packages/sklearn/utils/validation.py:515: DataConversionWarning: A column-vector y was passed when a 1d array was expected. Please change the shape of y to (n_samples, ), for example using ravel().\n",
      "  y = column_or_1d(y, warn=True)\n",
      "//anaconda/lib/python2.7/site-packages/sklearn/utils/validation.py:515: DataConversionWarning: A column-vector y was passed when a 1d array was expected. Please change the shape of y to (n_samples, ), for example using ravel().\n",
      "  y = column_or_1d(y, warn=True)\n",
      "//anaconda/lib/python2.7/site-packages/sklearn/utils/validation.py:515: DataConversionWarning: A column-vector y was passed when a 1d array was expected. Please change the shape of y to (n_samples, ), for example using ravel().\n",
      "  y = column_or_1d(y, warn=True)\n",
      "//anaconda/lib/python2.7/site-packages/sklearn/utils/validation.py:515: DataConversionWarning: A column-vector y was passed when a 1d array was expected. Please change the shape of y to (n_samples, ), for example using ravel().\n",
      "  y = column_or_1d(y, warn=True)\n"
     ]
    }
   ],
   "source": [
    "params = {} # put your gradient descent parameters here\n",
    "gs = grid_search.GridSearchCV(\n",
    "    estimator=linear_model.SGDRegressor(),\n",
    "    cv=cross_validation.KFold(len(modeldata), n_folds=5, shuffle=True),\n",
    "    param_grid=params,\n",
    "    scoring='mean_squared_error',\n",
    "    )\n",
    "\n",
    "gs.fit(modeldata, y)\n",
    "\n",
    "print 'BEST ESTIMATOR'\n",
    "print -gs.best_score_\n",
    "print gs.best_estimator_\n",
    "print 'ALL ESTIMATORS'\n",
    "print gs.grid_scores_"
   ]
  },
  {
   "cell_type": "code",
   "execution_count": 52,
   "metadata": {
    "collapsed": true
   },
   "outputs": [],
   "source": [
    "## go for it!"
   ]
  },
  {
   "cell_type": "code",
   "execution_count": 53,
   "metadata": {
    "collapsed": false
   },
   "outputs": [
    {
     "data": {
      "text/plain": [
       "SGDRegressor(alpha=0.0001, average=False, epsilon=0.1, eta0=0.01,\n",
       "       fit_intercept=True, l1_ratio=0.15, learning_rate='invscaling',\n",
       "       loss='squared_loss', n_iter=5, penalty='l2', power_t=0.25,\n",
       "       random_state=None, shuffle=True, verbose=0, warm_start=False)"
      ]
     },
     "execution_count": 53,
     "metadata": {},
     "output_type": "execute_result"
    }
   ],
   "source": [
    "gs.best_estimator_"
   ]
  },
  {
   "cell_type": "markdown",
   "metadata": {},
   "source": [
    "### Bonus : Try to compare SGD Regressor with linear regression in terms of MSE and R^2"
   ]
  },
  {
   "cell_type": "code",
   "execution_count": null,
   "metadata": {
    "collapsed": true
   },
   "outputs": [],
   "source": []
  }
 ],
 "metadata": {
  "kernelspec": {
   "display_name": "Python [Root]",
   "language": "python",
   "name": "Python [Root]"
  },
  "language_info": {
   "codemirror_mode": {
    "name": "ipython",
    "version": 2
   },
   "file_extension": ".py",
   "mimetype": "text/x-python",
   "name": "python",
   "nbconvert_exporter": "python",
   "pygments_lexer": "ipython2",
   "version": "2.7.12"
  }
 },
 "nbformat": 4,
 "nbformat_minor": 0
}
